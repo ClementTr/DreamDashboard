{
 "cells": [
  {
   "cell_type": "code",
   "execution_count": 1,
   "metadata": {},
   "outputs": [],
   "source": [
    "import pandas as pd\n",
    "from nltk.corpus import stopwords\n",
    "from textblob import TextBlob\n",
    "import string"
   ]
  },
  {
   "cell_type": "code",
   "execution_count": 2,
   "metadata": {},
   "outputs": [],
   "source": [
    "df = pd.read_csv('dreams.csv')"
   ]
  },
  {
   "cell_type": "code",
   "execution_count": 3,
   "metadata": {},
   "outputs": [
    {
     "data": {
      "text/html": [
       "<div>\n",
       "<style scoped>\n",
       "    .dataframe tbody tr th:only-of-type {\n",
       "        vertical-align: middle;\n",
       "    }\n",
       "\n",
       "    .dataframe tbody tr th {\n",
       "        vertical-align: top;\n",
       "    }\n",
       "\n",
       "    .dataframe thead th {\n",
       "        text-align: right;\n",
       "    }\n",
       "</style>\n",
       "<table border=\"1\" class=\"dataframe\">\n",
       "  <thead>\n",
       "    <tr style=\"text-align: right;\">\n",
       "      <th></th>\n",
       "      <th>dream_number</th>\n",
       "      <th>name</th>\n",
       "      <th>date</th>\n",
       "      <th>word_count</th>\n",
       "      <th>dream_txt</th>\n",
       "      <th>contient_nazi</th>\n",
       "    </tr>\n",
       "  </thead>\n",
       "  <tbody>\n",
       "    <tr>\n",
       "      <th>0</th>\n",
       "      <td>0000</td>\n",
       "      <td>Barb Sanders</td>\n",
       "      <td>05/03/60</td>\n",
       "      <td>12</td>\n",
       "      <td>I had the neatest dream about Blake, me, Reta ...</td>\n",
       "      <td>False</td>\n",
       "    </tr>\n",
       "    <tr>\n",
       "      <th>1</th>\n",
       "      <td>0002</td>\n",
       "      <td>Barb Sanders</td>\n",
       "      <td>07/16/60</td>\n",
       "      <td>17</td>\n",
       "      <td>I had a dream that Nate came back and I felt j...</td>\n",
       "      <td>False</td>\n",
       "    </tr>\n",
       "    <tr>\n",
       "      <th>2</th>\n",
       "      <td>0003</td>\n",
       "      <td>Barb Sanders</td>\n",
       "      <td>08/04/60</td>\n",
       "      <td>154</td>\n",
       "      <td>For the second night in a row, I dreamed of Jo...</td>\n",
       "      <td>False</td>\n",
       "    </tr>\n",
       "    <tr>\n",
       "      <th>3</th>\n",
       "      <td>0004</td>\n",
       "      <td>Barb Sanders</td>\n",
       "      <td>12/02/60</td>\n",
       "      <td>18</td>\n",
       "      <td>I Didn't dream as last night before I woke up!...</td>\n",
       "      <td>False</td>\n",
       "    </tr>\n",
       "    <tr>\n",
       "      <th>4</th>\n",
       "      <td>0005</td>\n",
       "      <td>Barb Sanders</td>\n",
       "      <td>11/25/61</td>\n",
       "      <td>23</td>\n",
       "      <td>I had a funny dream. I had to choose between D...</td>\n",
       "      <td>False</td>\n",
       "    </tr>\n",
       "  </tbody>\n",
       "</table>\n",
       "</div>"
      ],
      "text/plain": [
       "  dream_number          name      date  word_count  \\\n",
       "0         0000  Barb Sanders  05/03/60          12   \n",
       "1         0002  Barb Sanders  07/16/60          17   \n",
       "2         0003  Barb Sanders  08/04/60         154   \n",
       "3         0004  Barb Sanders  12/02/60          18   \n",
       "4         0005  Barb Sanders  11/25/61          23   \n",
       "\n",
       "                                           dream_txt contient_nazi  \n",
       "0  I had the neatest dream about Blake, me, Reta ...         False  \n",
       "1  I had a dream that Nate came back and I felt j...         False  \n",
       "2  For the second night in a row, I dreamed of Jo...         False  \n",
       "3  I Didn't dream as last night before I woke up!...         False  \n",
       "4  I had a funny dream. I had to choose between D...         False  "
      ]
     },
     "execution_count": 3,
     "metadata": {},
     "output_type": "execute_result"
    }
   ],
   "source": [
    "df.head()"
   ]
  },
  {
   "cell_type": "code",
   "execution_count": 4,
   "metadata": {},
   "outputs": [
    {
     "data": {
      "text/plain": [
       "'I had a funny dream. I had to choose between Darryl and Jon. Jon was real sweet but Darryl won out. Real psychological!'"
      ]
     },
     "execution_count": 4,
     "metadata": {},
     "output_type": "execute_result"
    }
   ],
   "source": [
    "df['dream_txt'][4]"
   ]
  },
  {
   "cell_type": "code",
   "execution_count": 5,
   "metadata": {},
   "outputs": [
    {
     "data": {
      "text/plain": [
       "Barb Sanders       3302\n",
       "Kenneth            2019\n",
       "Barb Sanders #2    1127\n",
       "Name: name, dtype: int64"
      ]
     },
     "execution_count": 5,
     "metadata": {},
     "output_type": "execute_result"
    }
   ],
   "source": [
    "df['name'].value_counts()"
   ]
  },
  {
   "cell_type": "code",
   "execution_count": 6,
   "metadata": {},
   "outputs": [],
   "source": [
    "stopWords = set(stopwords.words('english'))"
   ]
  },
  {
   "cell_type": "code",
   "execution_count": 7,
   "metadata": {},
   "outputs": [],
   "source": [
    "punct = string.punctuation"
   ]
  },
  {
   "cell_type": "code",
   "execution_count": 8,
   "metadata": {},
   "outputs": [],
   "source": [
    "def clean_text(text):\n",
    "    text = ' '.join(word.strip(punct) for word in text.split() if word not in stopWords)\n",
    "    return text.lower()"
   ]
  },
  {
   "cell_type": "code",
   "execution_count": 9,
   "metadata": {},
   "outputs": [],
   "source": [
    "def get_polarity(text):\n",
    "    return TextBlob(text).sentiment.polarity"
   ]
  },
  {
   "cell_type": "code",
   "execution_count": 12,
   "metadata": {},
   "outputs": [],
   "source": [
    "def tag_polarity(polarity):\n",
    "    if polarity > 0:\n",
    "        return 'positive'\n",
    "    elif polarity == 0:\n",
    "        return 'neutral'\n",
    "    else:\n",
    "        return 'negative'"
   ]
  },
  {
   "cell_type": "code",
   "execution_count": 13,
   "metadata": {
    "scrolled": false
   },
   "outputs": [],
   "source": [
    "df['clean_text'] = df['dream_txt'].apply(clean_text)\n",
    "df['pol_value'] = df['clean_text'].apply(get_polarity)\n",
    "df['polarity'] = df['pol_value'].apply(tag_polarity)"
   ]
  },
  {
   "cell_type": "code",
   "execution_count": 14,
   "metadata": {},
   "outputs": [
    {
     "data": {
      "text/html": [
       "<div>\n",
       "<style scoped>\n",
       "    .dataframe tbody tr th:only-of-type {\n",
       "        vertical-align: middle;\n",
       "    }\n",
       "\n",
       "    .dataframe tbody tr th {\n",
       "        vertical-align: top;\n",
       "    }\n",
       "\n",
       "    .dataframe thead th {\n",
       "        text-align: right;\n",
       "    }\n",
       "</style>\n",
       "<table border=\"1\" class=\"dataframe\">\n",
       "  <thead>\n",
       "    <tr style=\"text-align: right;\">\n",
       "      <th></th>\n",
       "      <th>dream_number</th>\n",
       "      <th>name</th>\n",
       "      <th>date</th>\n",
       "      <th>word_count</th>\n",
       "      <th>dream_txt</th>\n",
       "      <th>contient_nazi</th>\n",
       "      <th>clean_text</th>\n",
       "      <th>pol_value</th>\n",
       "      <th>polarity</th>\n",
       "    </tr>\n",
       "  </thead>\n",
       "  <tbody>\n",
       "    <tr>\n",
       "      <th>0</th>\n",
       "      <td>0000</td>\n",
       "      <td>Barb Sanders</td>\n",
       "      <td>05/03/60</td>\n",
       "      <td>12</td>\n",
       "      <td>I had the neatest dream about Blake, me, Reta ...</td>\n",
       "      <td>False</td>\n",
       "      <td>i neatest dream blake me reta bill e</td>\n",
       "      <td>0.000000</td>\n",
       "      <td>neutral</td>\n",
       "    </tr>\n",
       "    <tr>\n",
       "      <th>1</th>\n",
       "      <td>0002</td>\n",
       "      <td>Barb Sanders</td>\n",
       "      <td>07/16/60</td>\n",
       "      <td>17</td>\n",
       "      <td>I had a dream that Nate came back and I felt j...</td>\n",
       "      <td>False</td>\n",
       "      <td>i dream nate came back i felt i used to</td>\n",
       "      <td>0.000000</td>\n",
       "      <td>neutral</td>\n",
       "    </tr>\n",
       "    <tr>\n",
       "      <th>2</th>\n",
       "      <td>0003</td>\n",
       "      <td>Barb Sanders</td>\n",
       "      <td>08/04/60</td>\n",
       "      <td>154</td>\n",
       "      <td>For the second night in a row, I dreamed of Jo...</td>\n",
       "      <td>False</td>\n",
       "      <td>for second night row i dreamed jon he trying m...</td>\n",
       "      <td>0.013889</td>\n",
       "      <td>positive</td>\n",
       "    </tr>\n",
       "    <tr>\n",
       "      <th>3</th>\n",
       "      <td>0004</td>\n",
       "      <td>Barb Sanders</td>\n",
       "      <td>12/02/60</td>\n",
       "      <td>18</td>\n",
       "      <td>I Didn't dream as last night before I woke up!...</td>\n",
       "      <td>False</td>\n",
       "      <td>i didn't dream last night i woke up i dreamed ...</td>\n",
       "      <td>0.350000</td>\n",
       "      <td>positive</td>\n",
       "    </tr>\n",
       "    <tr>\n",
       "      <th>4</th>\n",
       "      <td>0005</td>\n",
       "      <td>Barb Sanders</td>\n",
       "      <td>11/25/61</td>\n",
       "      <td>23</td>\n",
       "      <td>I had a funny dream. I had to choose between D...</td>\n",
       "      <td>False</td>\n",
       "      <td>i funny dream i choose darryl jon jon real swe...</td>\n",
       "      <td>0.258333</td>\n",
       "      <td>positive</td>\n",
       "    </tr>\n",
       "  </tbody>\n",
       "</table>\n",
       "</div>"
      ],
      "text/plain": [
       "  dream_number          name      date  word_count  \\\n",
       "0         0000  Barb Sanders  05/03/60          12   \n",
       "1         0002  Barb Sanders  07/16/60          17   \n",
       "2         0003  Barb Sanders  08/04/60         154   \n",
       "3         0004  Barb Sanders  12/02/60          18   \n",
       "4         0005  Barb Sanders  11/25/61          23   \n",
       "\n",
       "                                           dream_txt contient_nazi  \\\n",
       "0  I had the neatest dream about Blake, me, Reta ...         False   \n",
       "1  I had a dream that Nate came back and I felt j...         False   \n",
       "2  For the second night in a row, I dreamed of Jo...         False   \n",
       "3  I Didn't dream as last night before I woke up!...         False   \n",
       "4  I had a funny dream. I had to choose between D...         False   \n",
       "\n",
       "                                          clean_text  pol_value  polarity  \n",
       "0               i neatest dream blake me reta bill e   0.000000   neutral  \n",
       "1            i dream nate came back i felt i used to   0.000000   neutral  \n",
       "2  for second night row i dreamed jon he trying m...   0.013889  positive  \n",
       "3  i didn't dream last night i woke up i dreamed ...   0.350000  positive  \n",
       "4  i funny dream i choose darryl jon jon real swe...   0.258333  positive  "
      ]
     },
     "execution_count": 14,
     "metadata": {},
     "output_type": "execute_result"
    }
   ],
   "source": [
    "df.head()"
   ]
  },
  {
   "cell_type": "code",
   "execution_count": 16,
   "metadata": {},
   "outputs": [
    {
     "data": {
      "text/plain": [
       "positive    4117\n",
       "negative    2067\n",
       "neutral      264\n",
       "Name: polarity, dtype: int64"
      ]
     },
     "execution_count": 16,
     "metadata": {},
     "output_type": "execute_result"
    }
   ],
   "source": [
    "df['polarity'].value_counts()"
   ]
  },
  {
   "cell_type": "code",
   "execution_count": null,
   "metadata": {},
   "outputs": [],
   "source": [
    "df.to_csv('dreams_')"
   ]
  }
 ],
 "metadata": {
  "kernelspec": {
   "display_name": "Web_py3",
   "language": "python",
   "name": "web_py3"
  },
  "language_info": {
   "codemirror_mode": {
    "name": "ipython",
    "version": 3
   },
   "file_extension": ".py",
   "mimetype": "text/x-python",
   "name": "python",
   "nbconvert_exporter": "python",
   "pygments_lexer": "ipython3",
   "version": "3.6.2"
  }
 },
 "nbformat": 4,
 "nbformat_minor": 2
}
